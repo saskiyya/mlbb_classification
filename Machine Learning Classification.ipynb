{
 "cells": [
  {
   "cell_type": "code",
   "execution_count": 14,
   "id": "98563c20-23d5-4f63-bb48-72cb0cfe3251",
   "metadata": {},
   "outputs": [
    {
     "data": {
      "text/html": [
       "<div>\n",
       "<style scoped>\n",
       "    .dataframe tbody tr th:only-of-type {\n",
       "        vertical-align: middle;\n",
       "    }\n",
       "\n",
       "    .dataframe tbody tr th {\n",
       "        vertical-align: top;\n",
       "    }\n",
       "\n",
       "    .dataframe thead th {\n",
       "        text-align: right;\n",
       "    }\n",
       "</style>\n",
       "<table border=\"1\" class=\"dataframe\">\n",
       "  <thead>\n",
       "    <tr style=\"text-align: right;\">\n",
       "      <th></th>\n",
       "      <th>kill</th>\n",
       "      <th>assist</th>\n",
       "      <th>death</th>\n",
       "      <th>turret</th>\n",
       "      <th>role</th>\n",
       "    </tr>\n",
       "  </thead>\n",
       "  <tbody>\n",
       "    <tr>\n",
       "      <th>0</th>\n",
       "      <td>10</td>\n",
       "      <td>2</td>\n",
       "      <td>3</td>\n",
       "      <td>2</td>\n",
       "      <td>penyerang</td>\n",
       "    </tr>\n",
       "    <tr>\n",
       "      <th>1</th>\n",
       "      <td>3</td>\n",
       "      <td>9</td>\n",
       "      <td>5</td>\n",
       "      <td>0</td>\n",
       "      <td>bertahan</td>\n",
       "    </tr>\n",
       "    <tr>\n",
       "      <th>2</th>\n",
       "      <td>8</td>\n",
       "      <td>4</td>\n",
       "      <td>2</td>\n",
       "      <td>1</td>\n",
       "      <td>penyerang</td>\n",
       "    </tr>\n",
       "    <tr>\n",
       "      <th>3</th>\n",
       "      <td>2</td>\n",
       "      <td>11</td>\n",
       "      <td>6</td>\n",
       "      <td>0</td>\n",
       "      <td>bertahan</td>\n",
       "    </tr>\n",
       "    <tr>\n",
       "      <th>4</th>\n",
       "      <td>12</td>\n",
       "      <td>3</td>\n",
       "      <td>2</td>\n",
       "      <td>3</td>\n",
       "      <td>penyerang</td>\n",
       "    </tr>\n",
       "    <tr>\n",
       "      <th>5</th>\n",
       "      <td>4</td>\n",
       "      <td>10</td>\n",
       "      <td>7</td>\n",
       "      <td>0</td>\n",
       "      <td>penyerang</td>\n",
       "    </tr>\n",
       "    <tr>\n",
       "      <th>6</th>\n",
       "      <td>9</td>\n",
       "      <td>5</td>\n",
       "      <td>2</td>\n",
       "      <td>2</td>\n",
       "      <td>penyerang</td>\n",
       "    </tr>\n",
       "    <tr>\n",
       "      <th>7</th>\n",
       "      <td>1</td>\n",
       "      <td>13</td>\n",
       "      <td>6</td>\n",
       "      <td>0</td>\n",
       "      <td>bertahan</td>\n",
       "    </tr>\n",
       "    <tr>\n",
       "      <th>8</th>\n",
       "      <td>11</td>\n",
       "      <td>4</td>\n",
       "      <td>3</td>\n",
       "      <td>2</td>\n",
       "      <td>penyerang</td>\n",
       "    </tr>\n",
       "    <tr>\n",
       "      <th>9</th>\n",
       "      <td>2</td>\n",
       "      <td>12</td>\n",
       "      <td>5</td>\n",
       "      <td>0</td>\n",
       "      <td>bertahan</td>\n",
       "    </tr>\n",
       "  </tbody>\n",
       "</table>\n",
       "</div>"
      ],
      "text/plain": [
       "   kill  assist  death  turret       role\n",
       "0    10       2      3       2  penyerang\n",
       "1     3       9      5       0   bertahan\n",
       "2     8       4      2       1  penyerang\n",
       "3     2      11      6       0   bertahan\n",
       "4    12       3      2       3  penyerang\n",
       "5     4      10      7       0  penyerang\n",
       "6     9       5      2       2  penyerang\n",
       "7     1      13      6       0   bertahan\n",
       "8    11       4      3       2  penyerang\n",
       "9     2      12      5       0   bertahan"
      ]
     },
     "execution_count": 14,
     "metadata": {},
     "output_type": "execute_result"
    }
   ],
   "source": [
    "# panggil library pandas\n",
    "import pandas as pd\n",
    "# baca dataset\n",
    "df = pd.read_csv(\"dataset.csv\")\n",
    "# tampilkan dataframe\n",
    "df\n"
   ]
  },
  {
   "cell_type": "code",
   "execution_count": 16,
   "id": "138207ff-01cd-43ed-a0ec-8f475ca46276",
   "metadata": {},
   "outputs": [
    {
     "name": "stdout",
     "output_type": "stream",
     "text": [
      "<class 'pandas.core.frame.DataFrame'>\n",
      "RangeIndex: 10 entries, 0 to 9\n",
      "Data columns (total 5 columns):\n",
      " #   Column  Non-Null Count  Dtype \n",
      "---  ------  --------------  ----- \n",
      " 0   kill    10 non-null     int64 \n",
      " 1   assist  10 non-null     int64 \n",
      " 2   death   10 non-null     int64 \n",
      " 3   turret  10 non-null     int64 \n",
      " 4   role    10 non-null     object\n",
      "dtypes: int64(4), object(1)\n",
      "memory usage: 532.0+ bytes\n",
      "None\n",
      "            kill     assist      death     turret\n",
      "count  10.000000  10.000000  10.000000  10.000000\n",
      "mean    6.200000   7.300000   4.100000   1.000000\n",
      "std     4.211096   4.110961   1.911951   1.154701\n",
      "min     1.000000   2.000000   2.000000   0.000000\n",
      "25%     2.250000   4.000000   2.250000   0.000000\n",
      "50%     6.000000   7.000000   4.000000   0.500000\n",
      "75%     9.750000  10.750000   5.750000   2.000000\n",
      "max    12.000000  13.000000   7.000000   3.000000\n",
      "kill      0\n",
      "assist    0\n",
      "death     0\n",
      "turret    0\n",
      "role      0\n",
      "dtype: int64\n",
      "role\n",
      "penyerang    6\n",
      "bertahan     4\n",
      "Name: count, dtype: int64\n"
     ]
    }
   ],
   "source": [
    "# menampilkan 5 data teratas\n",
    "df.head()\n",
    "# menampilkan 5 data terbawah\n",
    "df.tail()\n",
    "# melihat struktur data (kolom, tipe, jumlah baris, memori)\n",
    "print(df.info())\n",
    "# melihat statistik ringkas untuk kolom numeric (min, max, mean, dll)\n",
    "print(df.describe())\n",
    "# mengecek apakah ada data yang kosong\n",
    "print(df.isnull().sum())\n",
    "# mengecek jumlah data per role\n",
    "print(df[\"role\"].value_counts())\n",
    "\n"
   ]
  },
  {
   "cell_type": "code",
   "execution_count": 17,
   "id": "77b99d21-3dce-4b1a-bff7-61776af6da06",
   "metadata": {},
   "outputs": [
    {
     "data": {
      "image/png": "[encoded data removed]",
      "text/plain": [
       "<Figure size 600x500 with 1 Axes>"
      ]
     },
     "metadata": {},
     "output_type": "display_data"
    }
   ],
   "source": [
    "# import library matplotlib\n",
    "import matplotlib.pyplot as plt\n",
    "# pisahkan data berdasarkan role penyerang dan bertahan\n",
    "penyerang = df[df[\"role\"] ==\"penyerang\"]\n",
    "bertahan = df[df[\"role\"] ==\"bertahan\"]\n",
    "# buat canvas dengan ukuran 6x5 inch\n",
    "plt.figure(figsize=(6,5))\n",
    "# scatter plot untuk penyerang (merah, titik besar, agak transparan)\n",
    "plt.scatter(penyerang[\"kill\"], penyerang[\"assist\"], color=\"red\", s=100, alpha=0.7, label=\"penyerang\")\n",
    "# scatter plot untuk bertahan (biru, titik besar, agak transparan)\n",
    "plt.scatter(bertahan[\"kill\"], bertahan[\"assist\"], color=\"blue\", s=100, alpha=0.7, label=\"bertahan\")\n",
    "# label untuk sumbu x\n",
    "plt.xlabel(\"Kill\")\n",
    "# label untuk sumbu y\n",
    "plt.ylabel(\"Assist\")\n",
    "# judul grafik\n",
    "plt.title(\"MLBB Style Kill vs Assist\")\n",
    "# tampilkan kotak keterangan warna (penyerang/ bertahan)\n",
    "plt.legend()\n",
    "# tampilkan grid putus-putus tipis\n",
    "plt.grid(True, linestyle=\"--\", alpha=0.5)\n",
    "# tampilkan grafik ke layar\n",
    "plt.show()\n"
   ]
  },
  {
   "cell_type": "code",
   "execution_count": 19,
   "id": "fc7fc72e-fdf8-4b89-aec0-013a7170ea98",
   "metadata": {},
   "outputs": [
    {
     "name": "stdout",
     "output_type": "stream",
     "text": [
      "Accuracy : 1.0\n"
     ]
    }
   ],
   "source": [
    "# import Logistic Regression dari library Scikit-Learn\n",
    "from sklearn.linear_model import LogisticRegression\n",
    "# import fungsi train_test_split untuk membagi data menjadi data latih dan data uji\n",
    "from sklearn.model_selection import train_test_split\n",
    "# import accuracy_score untuk mengukur akurasi model (berapa prediksi benar dibanding totalnya)\n",
    "from sklearn.metrics import accuracy_score\n",
    "# pilih features yang akan digunakan\n",
    "X = df[[\"kill\",\"assist\",\"death\",\"turret\"]]\n",
    "# pilih target yang ingin diprediksi (penyerang/bertahan)\n",
    "y = df[\"role\"]\n",
    "# bagi dataset menjadi data latih 80%, data uji 20%, dengan random_state 42 agar hasil selalu sama\n",
    "X_train, X_test, y_train, y_test = train_test_split(X, y, test_size=0.2, random_state=42)\n",
    "# buat objek model Logistic Regression\n",
    "model = LogisticRegression()\n",
    "# latih model menggunakan data latih X_train dan y_train\n",
    "model.fit(X_train, y_train)\n",
    "# gunakan model yang sudah dilatih untuk memprediksi role di data uji X_test\n",
    "y_pred = model.predict(X_test)\n",
    "# cetak nilai akurasi, yaitu seberapa sering prediksi sama dengan data asli\n",
    "print(\"Accuracy :\", accuracy_score(y_test, y_pred))\n",
    "\n"
   ]
  },
  {
   "cell_type": "code",
   "execution_count": 20,
   "id": "96e432b0-b885-48bd-984f-e8463f1b73dc",
   "metadata": {},
   "outputs": [
    {
     "data": {
      "text/plain": [
       "array(['bertahan'], dtype=object)"
      ]
     },
     "execution_count": 20,
     "metadata": {},
     "output_type": "execute_result"
    }
   ],
   "source": [
    "data_baru = pd.DataFrame([[1,12,7,0]], columns=[\"kill\",\"assist\",\"death\",\"turret\"])\n",
    "model.predict(data_baru)\n"
   ]
  },
  {
   "cell_type": "code",
   "execution_count": 21,
   "id": "bf99c730-a812-4a99-bc3a-4f35498b4e87",
   "metadata": {},
   "outputs": [
    {
     "data": {
      "text/plain": [
       "'bertahan'"
      ]
     },
     "execution_count": 21,
     "metadata": {},
     "output_type": "execute_result"
    }
   ],
   "source": [
    "model.predict(data_baru)[0]\n"
   ]
  },
  {
   "cell_type": "code",
   "execution_count": 22,
   "id": "f11c4356-7ead-4876-a66d-575e45bac597",
   "metadata": {},
   "outputs": [
    {
     "data": {
      "text/plain": [
       "['mlbb_model.joblib']"
      ]
     },
     "execution_count": 22,
     "metadata": {},
     "output_type": "execute_result"
    }
   ],
   "source": [
    "# panggil library joblib\n",
    "import joblib\n",
    "# simpan model ke dalam format .joblib dengan nama “mlbb_model”\n",
    "joblib.dump(model, \"mlbb_model.joblib\")\n"
   ]
  },
  {
   "cell_type": "code",
   "execution_count": 27,
   "id": "74c05beb-8b4b-4d6a-86e8-99cd8c24bab2",
   "metadata": {},
   "outputs": [
    {
     "data": {
      "text/plain": [
       "array(['bertahan'], dtype=object)"
      ]
     },
     "execution_count": 27,
     "metadata": {},
     "output_type": "execute_result"
    }
   ],
   "source": [
    "# panggil library joblib\n",
    "import joblib\n",
    "# panggil library pandas untuk menyiapkan data uji\n",
    "import pandas as pd\n",
    "# load model yang sudah tersimpan\n",
    "loaded_model = joblib.load(\"mlbb_model.joblib\")\n",
    "# siapkan data baru untuk prediksi\n",
    "data_baru = pd.DataFrame([[3,9,5,1]], columns=[\"kill\",\"assist\",\"death\",\"turret\"])\n",
    "# lakukan proses prediksi\n",
    "loaded_model.predict(data_baru)\n"
   ]
  },
  {
   "cell_type": "code",
   "execution_count": 26,
   "id": "1d4ca2b9-167c-415b-8ba4-b2fc857ea70f",
   "metadata": {},
   "outputs": [
    {
     "ename": "SyntaxError",
     "evalue": "unmatched ')' (2054717317.py, line 13)",
     "output_type": "error",
     "traceback": [
      "  \u001b[36mCell\u001b[39m\u001b[36m \u001b[39m\u001b[32mIn[26]\u001b[39m\u001b[32m, line 13\u001b[39m\n\u001b[31m    \u001b[39m\u001b[31mcolumns=[\"kill\",\"assist\",\"death\",\"turret\"])\u001b[39m\n                                              ^\n\u001b[31mSyntaxError\u001b[39m\u001b[31m:\u001b[39m unmatched ')'\n"
     ]
    }
   ],
   "source": []
  },
  {
   "cell_type": "code",
   "execution_count": null,
   "id": "263fe826-2ea3-4d65-91fe-27e6b3ada543",
   "metadata": {},
   "outputs": [],
   "source": []
  }
 ],
 "metadata": {
  "kernelspec": {
   "display_name": "Python 3 (ipykernel)",
   "language": "python",
   "name": "python3"
  },
  "language_info": {
   "codemirror_mode": {
    "name": "ipython",
    "version": 3
   },
   "file_extension": ".py",
   "mimetype": "text/x-python",
   "name": "python",
   "nbconvert_exporter": "python",
   "pygments_lexer": "ipython3",
   "version": "3.13.5"
  }
 },
 "nbformat": 4,
 "nbformat_minor": 5
}
